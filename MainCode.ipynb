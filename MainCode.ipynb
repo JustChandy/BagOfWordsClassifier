{
  "nbformat": 4,
  "nbformat_minor": 0,
  "metadata": {
    "colab": {
      "name": "Assignment 3.ipynb",
      "provenance": [],
      "collapsed_sections": [],
      "toc_visible": true,
      "authorship_tag": "ABX9TyMuu18AEH4amJwBaCbRCq0Q",
      "include_colab_link": true
    },
    "kernelspec": {
      "name": "python3",
      "display_name": "Python 3"
    }
  },
  "cells": [
    {
      "cell_type": "markdown",
      "metadata": {
        "id": "view-in-github",
        "colab_type": "text"
      },
      "source": [
        "<a href=\"https://colab.research.google.com/github/JustChandy/BagOfWordsClassifier/blob/main/MainCode.ipynb\" target=\"_parent\"><img src=\"https://colab.research.google.com/assets/colab-badge.svg\" alt=\"Open In Colab\"/></a>"
      ]
    },
    {
      "cell_type": "markdown",
      "metadata": {
        "id": "f7wvqptLUJYS"
      },
      "source": [
        "**Assignment 3 - Sentiment\n",
        "Classification**\n"
      ]
    },
    {
      "cell_type": "markdown",
      "metadata": {
        "id": "h06nyzCJVLS6"
      },
      "source": [
        "The aim of this assignment is to create a Bag of Words (BoW) text classifier to do sentiment analysis of a list of restautant reviews and classify them as 'Positive', 'Negative' or \"Neutral' "
      ]
    },
    {
      "cell_type": "code",
      "metadata": {
        "id": "e1ltjI1LWcLL"
      },
      "source": [
        "import pandas as pd\n",
        "import numpy as np\n",
        "import nltk\n",
        "import random\n",
        "from nltk.classify.scikitlearn import SklearnClassifier\n",
        "import pickle\n",
        "from sklearn.naive_bayes import MultinomialNB, BernoulliNB\n",
        "from sklearn.linear_model import LogisticRegression, SGDClassifier\n",
        "from sklearn.svm import SVC, LinearSVC, NuSVC\n",
        "from nltk.classify import ClassifierI\n",
        "from statistics import mode\n",
        "from nltk.tokenize import word_tokenize, sent_tokenize\n",
        "import re"
      ],
      "execution_count": null,
      "outputs": []
    },
    {
      "cell_type": "code",
      "metadata": {
        "colab": {
          "base_uri": "https://localhost:8080/"
        },
        "id": "uNZssreaBilF",
        "outputId": "097b5764-92e7-463e-ea27-257c21480575"
      },
      "source": [
        "nltk.download('wordnet')\n",
        "nltk.download('stopwords')"
      ],
      "execution_count": null,
      "outputs": [
        {
          "output_type": "stream",
          "text": [
            "[nltk_data] Downloading package wordnet to /root/nltk_data...\n",
            "[nltk_data]   Package wordnet is already up-to-date!\n",
            "[nltk_data] Downloading package stopwords to /root/nltk_data...\n",
            "[nltk_data]   Package stopwords is already up-to-date!\n"
          ],
          "name": "stdout"
        },
        {
          "output_type": "execute_result",
          "data": {
            "text/plain": [
              "True"
            ]
          },
          "metadata": {
            "tags": []
          },
          "execution_count": 116
        }
      ]
    },
    {
      "cell_type": "markdown",
      "metadata": {
        "id": "XPXucRSmWO7s"
      },
      "source": [
        "Step 1 : Read data"
      ]
    },
    {
      "cell_type": "code",
      "metadata": {
        "id": "GKhFrBCjWS3W"
      },
      "source": [
        "rev_data = pd.read_csv('reviews.csv', delimiter= '\\t')"
      ],
      "execution_count": null,
      "outputs": []
    },
    {
      "cell_type": "code",
      "metadata": {
        "colab": {
          "base_uri": "https://localhost:8080/"
        },
        "id": "Ichil0gkW-Sh",
        "outputId": "d72d03b1-f595-408b-e987-86a226ac1997"
      },
      "source": [
        "rev_data.head"
      ],
      "execution_count": null,
      "outputs": [
        {
          "output_type": "execute_result",
          "data": {
            "text/plain": [
              "<bound method NDFrame.head of                        Name  ...                                             Review\n",
              "0              Playa Cabana  ...  I was tasked with finding a spot for a group d...\n",
              "1              Playa Cabana  ...  Went here with my friends and family. I liked ...\n",
              "2              Playa Cabana  ...  Surprisingly good Flautas! They came as 3 roll...\n",
              "3              Playa Cabana  ...  As a Mexican I always crave authentic Mexican ...\n",
              "4              Playa Cabana  ...  Best tacos I've ever had. Both locations are g...\n",
              "...                     ...  ...                                                ...\n",
              "1915  Greedy Duck & Noodles  ...  Maybe I didn't know what to expect but the win...\n",
              "1916  Greedy Duck & Noodles  ...  This is a casual family run restaurant. It's h...\n",
              "1917  Greedy Duck & Noodles  ...  Very tasty and unique flavours. This has becom...\n",
              "1918  Greedy Duck & Noodles  ...  The dry noodles are pretty good, super strong ...\n",
              "1919  Greedy Duck & Noodles  ...  This is hands down the best noodle place in To...\n",
              "\n",
              "[1920 rows x 4 columns]>"
            ]
          },
          "metadata": {
            "tags": []
          },
          "execution_count": 80
        }
      ]
    },
    {
      "cell_type": "markdown",
      "metadata": {
        "id": "5pT7zpqQ-H7Q"
      },
      "source": [
        "Step 2 : Create Sentiment column to bin the rating values"
      ]
    },
    {
      "cell_type": "code",
      "metadata": {
        "id": "KwaqtvvfftUO"
      },
      "source": [
        "# Creating an extra column Sentiment based on RatingValue\n",
        "conditions = [\n",
        "      (rev_data['RatingValue'] <= 2),\n",
        "      (rev_data['RatingValue'] == 3),\n",
        "      (rev_data['RatingValue'] >= 4) \n",
        "      ]\n",
        "\n",
        "values = ['Negative', 'Neutral', 'Positive']\n",
        "\n",
        "rev_data['Sentiment'] = np.select(conditions, values)\n"
      ],
      "execution_count": null,
      "outputs": []
    },
    {
      "cell_type": "code",
      "metadata": {
        "colab": {
          "base_uri": "https://localhost:8080/",
          "height": 206
        },
        "id": "Qs4PFtEXiVZc",
        "outputId": "85892653-3cba-400f-b4b0-59cad11c9250"
      },
      "source": [
        "rev_data.head()"
      ],
      "execution_count": null,
      "outputs": [
        {
          "output_type": "execute_result",
          "data": {
            "text/html": [
              "<div>\n",
              "<style scoped>\n",
              "    .dataframe tbody tr th:only-of-type {\n",
              "        vertical-align: middle;\n",
              "    }\n",
              "\n",
              "    .dataframe tbody tr th {\n",
              "        vertical-align: top;\n",
              "    }\n",
              "\n",
              "    .dataframe thead th {\n",
              "        text-align: right;\n",
              "    }\n",
              "</style>\n",
              "<table border=\"1\" class=\"dataframe\">\n",
              "  <thead>\n",
              "    <tr style=\"text-align: right;\">\n",
              "      <th></th>\n",
              "      <th>Name</th>\n",
              "      <th>RatingValue</th>\n",
              "      <th>DatePublished</th>\n",
              "      <th>Review</th>\n",
              "      <th>Sentiment</th>\n",
              "    </tr>\n",
              "  </thead>\n",
              "  <tbody>\n",
              "    <tr>\n",
              "      <th>0</th>\n",
              "      <td>Playa Cabana</td>\n",
              "      <td>4</td>\n",
              "      <td>2020-02-26</td>\n",
              "      <td>I was tasked with finding a spot for a group d...</td>\n",
              "      <td>Positive</td>\n",
              "    </tr>\n",
              "    <tr>\n",
              "      <th>1</th>\n",
              "      <td>Playa Cabana</td>\n",
              "      <td>3</td>\n",
              "      <td>2019-08-04</td>\n",
              "      <td>Went here with my friends and family. I liked ...</td>\n",
              "      <td>Neutral</td>\n",
              "    </tr>\n",
              "    <tr>\n",
              "      <th>2</th>\n",
              "      <td>Playa Cabana</td>\n",
              "      <td>3</td>\n",
              "      <td>2019-08-24</td>\n",
              "      <td>Surprisingly good Flautas! They came as 3 roll...</td>\n",
              "      <td>Neutral</td>\n",
              "    </tr>\n",
              "    <tr>\n",
              "      <th>3</th>\n",
              "      <td>Playa Cabana</td>\n",
              "      <td>4</td>\n",
              "      <td>2019-06-06</td>\n",
              "      <td>As a Mexican I always crave authentic Mexican ...</td>\n",
              "      <td>Positive</td>\n",
              "    </tr>\n",
              "    <tr>\n",
              "      <th>4</th>\n",
              "      <td>Playa Cabana</td>\n",
              "      <td>5</td>\n",
              "      <td>2020-05-25</td>\n",
              "      <td>Best tacos I've ever had. Both locations are g...</td>\n",
              "      <td>Positive</td>\n",
              "    </tr>\n",
              "  </tbody>\n",
              "</table>\n",
              "</div>"
            ],
            "text/plain": [
              "           Name  ...  Sentiment\n",
              "0  Playa Cabana  ...   Positive\n",
              "1  Playa Cabana  ...    Neutral\n",
              "2  Playa Cabana  ...    Neutral\n",
              "3  Playa Cabana  ...   Positive\n",
              "4  Playa Cabana  ...   Positive\n",
              "\n",
              "[5 rows x 5 columns]"
            ]
          },
          "metadata": {
            "tags": []
          },
          "execution_count": 82
        }
      ]
    },
    {
      "cell_type": "markdown",
      "metadata": {
        "id": "f-2xM9kXZFbK"
      },
      "source": [
        "Step 3: Create a new data frame with RatingValue, Review and Sentiment columns from the original dataset"
      ]
    },
    {
      "cell_type": "code",
      "metadata": {
        "colab": {
          "base_uri": "https://localhost:8080/",
          "height": 206
        },
        "id": "uoRYh3NsZUGC",
        "outputId": "f2d9da79-f74e-4d57-ce6a-7b11ecdb4feb"
      },
      "source": [
        "new_revdata = rev_data[['Review', 'RatingValue', 'Sentiment']].copy()\n",
        "new_revdata.head()"
      ],
      "execution_count": null,
      "outputs": [
        {
          "output_type": "execute_result",
          "data": {
            "text/html": [
              "<div>\n",
              "<style scoped>\n",
              "    .dataframe tbody tr th:only-of-type {\n",
              "        vertical-align: middle;\n",
              "    }\n",
              "\n",
              "    .dataframe tbody tr th {\n",
              "        vertical-align: top;\n",
              "    }\n",
              "\n",
              "    .dataframe thead th {\n",
              "        text-align: right;\n",
              "    }\n",
              "</style>\n",
              "<table border=\"1\" class=\"dataframe\">\n",
              "  <thead>\n",
              "    <tr style=\"text-align: right;\">\n",
              "      <th></th>\n",
              "      <th>Review</th>\n",
              "      <th>RatingValue</th>\n",
              "      <th>Sentiment</th>\n",
              "    </tr>\n",
              "  </thead>\n",
              "  <tbody>\n",
              "    <tr>\n",
              "      <th>0</th>\n",
              "      <td>I was tasked with finding a spot for a group d...</td>\n",
              "      <td>4</td>\n",
              "      <td>Positive</td>\n",
              "    </tr>\n",
              "    <tr>\n",
              "      <th>1</th>\n",
              "      <td>Went here with my friends and family. I liked ...</td>\n",
              "      <td>3</td>\n",
              "      <td>Neutral</td>\n",
              "    </tr>\n",
              "    <tr>\n",
              "      <th>2</th>\n",
              "      <td>Surprisingly good Flautas! They came as 3 roll...</td>\n",
              "      <td>3</td>\n",
              "      <td>Neutral</td>\n",
              "    </tr>\n",
              "    <tr>\n",
              "      <th>3</th>\n",
              "      <td>As a Mexican I always crave authentic Mexican ...</td>\n",
              "      <td>4</td>\n",
              "      <td>Positive</td>\n",
              "    </tr>\n",
              "    <tr>\n",
              "      <th>4</th>\n",
              "      <td>Best tacos I've ever had. Both locations are g...</td>\n",
              "      <td>5</td>\n",
              "      <td>Positive</td>\n",
              "    </tr>\n",
              "  </tbody>\n",
              "</table>\n",
              "</div>"
            ],
            "text/plain": [
              "                                              Review  RatingValue Sentiment\n",
              "0  I was tasked with finding a spot for a group d...            4  Positive\n",
              "1  Went here with my friends and family. I liked ...            3   Neutral\n",
              "2  Surprisingly good Flautas! They came as 3 roll...            3   Neutral\n",
              "3  As a Mexican I always crave authentic Mexican ...            4  Positive\n",
              "4  Best tacos I've ever had. Both locations are g...            5  Positive"
            ]
          },
          "metadata": {
            "tags": []
          },
          "execution_count": 119
        }
      ]
    },
    {
      "cell_type": "markdown",
      "metadata": {
        "id": "jQLI7PO2mqSQ"
      },
      "source": [
        "Step 4: Analyze different levels of Sentiment variable\n"
      ]
    },
    {
      "cell_type": "code",
      "metadata": {
        "colab": {
          "base_uri": "https://localhost:8080/",
          "height": 318
        },
        "id": "8E5GfQqcl2T8",
        "outputId": "8758b20e-439c-4718-90f8-ee37ec468bc3"
      },
      "source": [
        "new_revdata['Sentiment'].value_counts().plot(kind='bar')"
      ],
      "execution_count": null,
      "outputs": [
        {
          "output_type": "execute_result",
          "data": {
            "text/plain": [
              "<matplotlib.axes._subplots.AxesSubplot at 0x7f0ae826f2b0>"
            ]
          },
          "metadata": {
            "tags": []
          },
          "execution_count": 120
        },
        {
          "output_type": "display_data",
          "data": {
            "image/png": "[encoded data removed]",
            "text/plain": [
              "<Figure size 432x288 with 1 Axes>"
            ]
          },
          "metadata": {
            "tags": [],
            "needs_background": "light"
          }
        }
      ]
    },
    {
      "cell_type": "markdown",
      "metadata": {
        "id": "fhdo_IfUmvym"
      },
      "source": [
        "Step 5: Balance the data"
      ]
    },
    {
      "cell_type": "code",
      "metadata": {
        "colab": {
          "base_uri": "https://localhost:8080/",
          "height": 318
        },
        "id": "6h-ZeSRboOnS",
        "outputId": "9a825ba1-6fbb-434f-92fd-1a4727635a50"
      },
      "source": [
        "# Shuffle the Dataset.\n",
        "shuffled_df = new_revdata.sample(frac=1,random_state=4)\n",
        "\n",
        "# Put all the negative class in a separate dataset.\n",
        "neg_df = shuffled_df.loc[shuffled_df['Sentiment'] == 'Negative']\n",
        "\n",
        "#Randomly select 158 observations from the Neutral (majority class)\n",
        "neut_df = shuffled_df.loc[shuffled_df['Sentiment'] == 'Neutral'].sample(n=158,random_state=42)\n",
        "\n",
        "#Randomly select 158 observations from the Posotive (majority class)\n",
        "pos_df = shuffled_df.loc[shuffled_df['Sentiment'] == 'Positive'].sample(n=158,random_state=42)\n",
        "\n",
        "# Concatenate 3 dataframes again\n",
        "bal_reviews = pd.concat([pos_df, neg_df, neut_df])\n",
        "\n",
        "#plot the dataset after the undersampling\n",
        "bal_reviews['Sentiment'].value_counts().plot(kind='bar')"
      ],
      "execution_count": null,
      "outputs": [
        {
          "output_type": "execute_result",
          "data": {
            "text/plain": [
              "<matplotlib.axes._subplots.AxesSubplot at 0x7f0ae7705eb8>"
            ]
          },
          "metadata": {
            "tags": []
          },
          "execution_count": 121
        },
        {
          "output_type": "display_data",
          "data": {
            "image/png": "[encoded data removed]",
            "text/plain": [
              "<Figure size 432x288 with 1 Axes>"
            ]
          },
          "metadata": {
            "tags": [],
            "needs_background": "light"
          }
        }
      ]
    },
    {
      "cell_type": "code",
      "metadata": {
        "id": "UCaF9gJKdOej"
      },
      "source": [
        "#Reset the index of the balanced dataset for further processing\n",
        "bal_reviews = bal_reviews.reset_index(drop=True)"
      ],
      "execution_count": null,
      "outputs": []
    },
    {
      "cell_type": "markdown",
      "metadata": {
        "id": "rO1VQRuJguYB"
      },
      "source": [
        "Step 6: Create a dataset containing the corpus and another dataset containing the labels  "
      ]
    },
    {
      "cell_type": "code",
      "metadata": {
        "id": "AsohU7Cmn4kS"
      },
      "source": [
        "X, y = bal_reviews['Review'], bal_reviews['Sentiment']"
      ],
      "execution_count": null,
      "outputs": []
    },
    {
      "cell_type": "markdown",
      "metadata": {
        "id": "mo3G-MAyBpmn"
      },
      "source": [
        "Step 7: Split the Corpus and Labels into training and validation sets"
      ]
    },
    {
      "cell_type": "code",
      "metadata": {
        "id": "88tIkyLW6V9q"
      },
      "source": [
        "from sklearn.model_selection import train_test_split\n",
        "X_train, X_valid, y_train, y_valid = train_test_split(X, y, test_size = 0.30, random_state = 42)\n",
        "train_ds, valid_ds =  train_test_split(rev_data , test_size = 0.30, random_state = 42)\n",
        "train_ds.to_csv('training.csv')\n",
        "valid_ds.to_csv('valid.csv')"
      ],
      "execution_count": null,
      "outputs": []
    },
    {
      "cell_type": "code",
      "metadata": {
        "id": "o2zgjyfJ8Z2T"
      },
      "source": [
        "X_train = X_train.reset_index(drop=True)\n",
        "X_valid = X_valid.reset_index(drop=True)"
      ],
      "execution_count": null,
      "outputs": []
    },
    {
      "cell_type": "code",
      "metadata": {
        "id": "R-ezVttVawpr"
      },
      "source": [
        "from nltk.stem import WordNetLemmatizer\n",
        "stemmer = WordNetLemmatizer()"
      ],
      "execution_count": null,
      "outputs": []
    },
    {
      "cell_type": "markdown",
      "metadata": {
        "id": "0L6t-I_uB-w_"
      },
      "source": [
        "Step 8: Normalize documents in the training corpus"
      ]
    },
    {
      "cell_type": "code",
      "metadata": {
        "id": "gb8Zc7Uqa-30"
      },
      "source": [
        "  documents_train=[] \n",
        "  for sen in range(0, len(X_train)):  \n",
        "    # Remove all the special characters\n",
        "    document = re.sub(r'\\W', ' ', str(X_train[sen]))\n",
        "    \n",
        "    # remove all single characters\n",
        "    document = re.sub(r'\\s+[a-zA-Z]\\s+', ' ', document)\n",
        "    \n",
        "    # Remove single characters from the start\n",
        "    document = re.sub(r'\\^[a-zA-Z]\\s+', ' ', document) \n",
        "    \n",
        "    # Substituting multiple spaces with single space\n",
        "    document = re.sub(r'\\s+', ' ', document, flags=re.I)\n",
        "    \n",
        "    # Converting to Lowercase\n",
        "    document = document.lower()\n",
        "    \n",
        "    # Lemmatization\n",
        "    document = document.split()\n",
        "\n",
        "    document = [stemmer.lemmatize(word) for word in document]\n",
        "    document = ' '.join(document)\n",
        "    \n",
        "    documents_train.append(document)\n",
        "  "
      ],
      "execution_count": null,
      "outputs": []
    },
    {
      "cell_type": "markdown",
      "metadata": {
        "id": "PLjWcqchCFp3"
      },
      "source": [
        "Step 9: Normalize documents in the validation corpus"
      ]
    },
    {
      "cell_type": "code",
      "metadata": {
        "id": "lhqs9iZi6f7Z"
      },
      "source": [
        "  documents_valid=[] \n",
        "  for sen in range(0, len(X_valid)): \n",
        "    # Remove all the special characters\n",
        "    document = re.sub(r'\\W', ' ', str(X_valid[sen]))\n",
        "    \n",
        "    # remove all single characters\n",
        "    document = re.sub(r'\\s+[a-zA-Z]\\s+', ' ', document)\n",
        "    \n",
        "    # Remove single characters from the start\n",
        "    document = re.sub(r'\\^[a-zA-Z]\\s+', ' ', document) \n",
        "    \n",
        "    # Substituting multiple spaces with single space\n",
        "    document = re.sub(r'\\s+', ' ', document, flags=re.I)\n",
        "    \n",
        "    # Converting to Lowercase\n",
        "    document = document.lower()\n",
        "    \n",
        "    # Lemmatization\n",
        "    document = document.split()\n",
        "\n",
        "    document = [stemmer.lemmatize(word) for word in document]\n",
        "    document = ' '.join(document)\n",
        "    \n",
        "    documents_valid.append(document)"
      ],
      "execution_count": null,
      "outputs": []
    },
    {
      "cell_type": "markdown",
      "metadata": {
        "id": "m65T_42wCXwu"
      },
      "source": [
        "Step 10 : Create BoW representaiton of training and validation corpus"
      ]
    },
    {
      "cell_type": "code",
      "metadata": {
        "id": "55Jzb3FMxMzV"
      },
      "source": [
        "from sklearn.feature_extraction.text import CountVectorizer\n",
        "vectorizer = CountVectorizer(max_features=1500, stop_words=stopwords.words('english'))\n",
        "X_train = vectorizer.fit_transform(documents_train).toarray()\n",
        "X_valid = vectorizer.fit_transform(documents_valid).toarray()"
      ],
      "execution_count": null,
      "outputs": []
    },
    {
      "cell_type": "markdown",
      "metadata": {
        "id": "2N76TRJSCmVW"
      },
      "source": [
        "Step 11: Fit the BoW classifier to training set and create predictions on the validation set"
      ]
    },
    {
      "cell_type": "code",
      "metadata": {
        "id": "LBNE6_FtgIsh"
      },
      "source": [
        "# Fitting Naive Bayes to the Training set\n",
        "from sklearn.naive_bayes import MultinomialNB\n",
        "classifier = MultinomialNB(alpha=0.1)\n",
        "classifier.fit(X_train, y_train)\n",
        "\n",
        "# Predicting the Test set results\n",
        "y_pred = classifier.predict(X_valid)"
      ],
      "execution_count": null,
      "outputs": []
    },
    {
      "cell_type": "markdown",
      "metadata": {
        "id": "DdteZbBKDgzy"
      },
      "source": [
        "Step 12 : Evaluate performance of the classifier"
      ]
    },
    {
      "cell_type": "code",
      "metadata": {
        "colab": {
          "base_uri": "https://localhost:8080/",
          "height": 369
        },
        "id": "PdRLYsoADbdP",
        "outputId": "c2dcc597-e33c-48f6-8c78-4ee8f122c50e"
      },
      "source": [
        "# Making the Confusion Matrix\n",
        "from sklearn.metrics import confusion_matrix\n",
        "labels = ['Negative', 'Neutral', 'Positive']\n",
        "cm = confusion_matrix(y_valid, y_pred, labels)\n",
        "print (\"Confusion Matrix:\\n\",cm)\n",
        "\n",
        "#plot the confusion matrix \n",
        "\n",
        "import seaborn as sns\n",
        "import matplotlib.pyplot as plt     \n",
        "\n",
        "ax= plt.subplot()\n",
        "sns.heatmap(cm, annot=True, ax = ax); #annot=True to annotate cells\n",
        "\n",
        "# labels, title and ticks\n",
        "ax.set_xlabel('Predicted labels');ax.set_ylabel('True labels'); \n",
        "ax.set_title('Confusion Matrix'); \n",
        "ax.xaxis.set_ticklabels(['Negative', 'Neutral', 'Positive']); ax.yaxis.set_ticklabels(['Negative', 'Neutral', 'Positive']);\n",
        "\n",
        "\n"
      ],
      "execution_count": null,
      "outputs": [
        {
          "output_type": "stream",
          "text": [
            "Confusion Matrix:\n",
            " [[16 10 12]\n",
            " [24 11 12]\n",
            " [28 13 17]]\n"
          ],
          "name": "stdout"
        },
        {
          "output_type": "display_data",
          "data": {
            "image/png": "[encoded data removed]",
            "text/plain": [
              "<Figure size 432x288 with 2 Axes>"
            ]
          },
          "metadata": {
            "tags": [],
            "needs_background": "light"
          }
        }
      ]
    },
    {
      "cell_type": "code",
      "metadata": {
        "colab": {
          "base_uri": "https://localhost:8080/"
        },
        "id": "H_1vr1ivMDMY",
        "outputId": "4149410d-0b4f-47e6-a79a-1261a57555c6"
      },
      "source": [
        "# Accuracy, Precision and Recall\n",
        "from sklearn.metrics import accuracy_score\n",
        "from sklearn.metrics import precision_score\n",
        "from sklearn.metrics import recall_score\n",
        "from sklearn.metrics import f1_score\n",
        "accuracy = accuracy_score(y_valid,y_pred)\n",
        "precision = precision_score(y_valid,y_pred, average='micro')\n",
        "recall = recall_score(y_valid,y_pred, average='micro' )\n",
        "F1_Score = f1_score(y_valid, y_pred, average='micro')\n",
        "print(\"\\n\")\n",
        "print(\"Accuracy is \",round(score1*100,2),\"%\")\n",
        "print(\"Precision is \",round(score2,2,))\n",
        "print(\"Recall is \",round(score3,2))\n",
        "print(\"F1 score is \", round(F1_Score,2))"
      ],
      "execution_count": null,
      "outputs": [
        {
          "output_type": "stream",
          "text": [
            "\n",
            "\n",
            "Accuracy is  66.43 %\n",
            "Precision is  0.66\n",
            "Recall is  0.66\n",
            "F1 score is  0.31\n"
          ],
          "name": "stdout"
        }
      ]
    },
    {
      "cell_type": "markdown",
      "metadata": {
        "id": "CIHuXtQ1UEDt"
      },
      "source": [
        "References: <br>\n",
        "https://scikit-learn.org <br>\n",
        "https://towardsdatascience.com/beyond-accuracy-precision-and-recall-3da06bea9f6c<br>\n",
        "https://www.datacamp.com/community/tutorials/naive-bayes-scikit-learn<br>\n",
        "https://stackoverflow.com/questions/19233771/sklearn-plot-confusion-matrix-with-labels"
      ]
    }
  ]
}